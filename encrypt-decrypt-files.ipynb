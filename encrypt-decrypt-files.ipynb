{
 "cells": [
  {
   "cell_type": "code",
   "execution_count": 1,
   "id": "007bd510",
   "metadata": {},
   "outputs": [],
   "source": [
    "from cryptography.fernet import Fernet"
   ]
  },
  {
   "cell_type": "code",
   "execution_count": 2,
   "id": "c2a6e107",
   "metadata": {},
   "outputs": [
    {
     "name": "stdout",
     "output_type": "stream",
     "text": [
      "b'GlWmVg-HCCE69RXgrLs-7vUlPWHuY3YwMMCL0Hi0YqA='\n"
     ]
    }
   ],
   "source": [
    "keyss=Fernet.generate_key()\n",
    "print(keyss)"
   ]
  },
  {
   "cell_type": "code",
   "execution_count": 3,
   "id": "d85bcd09",
   "metadata": {},
   "outputs": [],
   "source": [
    "keys=\"_2W26CqmfuNpxIN0nE1Hb-1PIbXGBCIpo_h2_pGVP-c=\"\n",
    "key = bytes(keys, 'utf-8')"
   ]
  },
  {
   "cell_type": "code",
   "execution_count": 6,
   "id": "44f27c73",
   "metadata": {},
   "outputs": [],
   "source": [
    "fernet=Fernet(key)\n",
    "with open('key.key','wb')as filekey:\n",
    "    filekey.write(key)\n",
    "\n",
    "with open('key.key','rb')as filekey:\n",
    "    key=filekey.read()\n",
    "    \n",
    "with open('audio.mp3','rb')as file:\n",
    "    originalaudio=file.read()\n",
    "    \n",
    "encrypted=fernet.encrypt(originalaudio)\n",
    "\n",
    "with open('voice encryption.mp3','wb')as encrypted_file:\n",
    "    encrypted_file.write(encrypted)"
   ]
  },
  {
   "cell_type": "code",
   "execution_count": 7,
   "id": "d866bae8",
   "metadata": {},
   "outputs": [],
   "source": [
    "fernet=Fernet(key)\n",
    "\n",
    "with open('voice encryption.mp3','rb') as enc_file:\n",
    "    encrypted=enc_file.read()\n",
    "    \n",
    "decrypted=fernet.decrypt(encrypted)\n",
    "\n",
    "with open('voice decryption.mp3','wb')as dec_file:\n",
    "    dec_file.write(decrypted)"
   ]
  },
  {
   "cell_type": "code",
   "execution_count": null,
   "id": "2e3578dd",
   "metadata": {},
   "outputs": [],
   "source": []
  },
  {
   "cell_type": "code",
   "execution_count": null,
   "id": "1ce0ac64",
   "metadata": {},
   "outputs": [],
   "source": []
  }
 ],
 "metadata": {
  "kernelspec": {
   "display_name": "Python 3",
   "language": "python",
   "name": "python3"
  },
  "language_info": {
   "codemirror_mode": {
    "name": "ipython",
    "version": 3
   },
   "file_extension": ".py",
   "mimetype": "text/x-python",
   "name": "python",
   "nbconvert_exporter": "python",
   "pygments_lexer": "ipython3",
   "version": "3.8.13"
  }
 },
 "nbformat": 4,
 "nbformat_minor": 5
}
